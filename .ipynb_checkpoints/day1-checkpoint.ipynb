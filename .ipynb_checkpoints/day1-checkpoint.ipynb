{
 "cells": [
  {
   "cell_type": "code",
   "execution_count": 1,
   "id": "ea5f91bf-ec15-4f26-9760-7fa276921546",
   "metadata": {},
   "outputs": [
    {
     "name": "stdout",
     "output_type": "stream",
     "text": [
      "   EmployeeID             Name   Age Department JoiningDate  Salary  \\\n",
      "0         101         John Doe  28.0      Sales  2018-05-21   50000   \n",
      "1         102       Jane Smith  35.0         HR  2015-03-15   65000   \n",
      "2         103      Bob Johnson   NaN         IT  2019-07-30   72000   \n",
      "3         104   Alice Williams  29.0      Sales        None   55000   \n",
      "4         105        Tom Brown  45.0         HR  2010-11-20   80000   \n",
      "5         106      Susan Davis  32.0         IT  2017-01-12   70000   \n",
      "6         107   Michael Miller  27.0    Finance  2020-09-01   48000   \n",
      "7         108     Linda Wilson  38.0    Finance  2012-06-17   82000   \n",
      "8         109      Chris Moore   NaN       None  2018-08-23   51000   \n",
      "9         110  Patricia Taylor  31.0         IT  2016-02-29   68000   \n",
      "\n",
      "                         Email  ExperienceYears  \n",
      "0         john.doe@example.com              3.0  \n",
      "1       jane_smith@company.com              8.0  \n",
      "2      bob.johnson@example.com              2.0  \n",
      "3   alice.williams@company.com              3.0  \n",
      "4            tom.brown@example             15.0  \n",
      "5      susan.davis@company.com              NaN  \n",
      "6   michael.miller@company.com              1.0  \n",
      "7     linda.wilson@example.com             12.0  \n",
      "8      chris.moore@example.com              4.0  \n",
      "9  patricia.taylor@company.com              6.0  \n"
     ]
    }
   ],
   "source": [
    "import pandas as pd\n",
    "\n",
    "# Sample Employee Dataset\n",
    "data = [\n",
    "    {\"EmployeeID\": 101, \"Name\": \"John Doe\", \"Age\": 28, \"Department\": \"Sales\", \"JoiningDate\": \"2018-05-21\", \"Salary\": 50000, \"Email\": \"john.doe@example.com\", \"ExperienceYears\": 3},\n",
    "    {\"EmployeeID\": 102, \"Name\": \"Jane Smith\", \"Age\": 35, \"Department\": \"HR\", \"JoiningDate\": \"2015-03-15\", \"Salary\": 65000, \"Email\": \"jane_smith@company.com\", \"ExperienceYears\": 8},\n",
    "    {\"EmployeeID\": 103, \"Name\": \"Bob Johnson\", \"Age\": None, \"Department\": \"IT\", \"JoiningDate\": \"2019-07-30\", \"Salary\": 72000, \"Email\": \"bob.johnson@example.com\", \"ExperienceYears\": 2},\n",
    "    {\"EmployeeID\": 104, \"Name\": \"Alice Williams\", \"Age\": 29, \"Department\": \"Sales\", \"JoiningDate\": None, \"Salary\": 55000, \"Email\": \"alice.williams@company.com\", \"ExperienceYears\": 3},\n",
    "    {\"EmployeeID\": 105, \"Name\": \"Tom Brown\", \"Age\": 45, \"Department\": \"HR\", \"JoiningDate\": \"2010-11-20\", \"Salary\": 80000, \"Email\": \"tom.brown@example\", \"ExperienceYears\": 15},\n",
    "    {\"EmployeeID\": 106, \"Name\": \"Susan Davis\", \"Age\": 32, \"Department\": \"IT\", \"JoiningDate\": \"2017-01-12\", \"Salary\": 70000, \"Email\": \"susan.davis@company.com\", \"ExperienceYears\": None},\n",
    "    {\"EmployeeID\": 107, \"Name\": \"Michael Miller\", \"Age\": 27, \"Department\": \"Finance\", \"JoiningDate\": \"2020-09-01\", \"Salary\": 48000, \"Email\": \"michael.miller@company.com\", \"ExperienceYears\": 1},\n",
    "    {\"EmployeeID\": 108, \"Name\": \"Linda Wilson\", \"Age\": 38, \"Department\": \"Finance\", \"JoiningDate\": \"2012-06-17\", \"Salary\": 82000, \"Email\": \"linda.wilson@example.com\", \"ExperienceYears\": 12},\n",
    "    {\"EmployeeID\": 109, \"Name\": \"Chris Moore\", \"Age\": None, \"Department\": None, \"JoiningDate\": \"2018-08-23\", \"Salary\": 51000, \"Email\": \"chris.moore@example.com\", \"ExperienceYears\": 4},\n",
    "    {\"EmployeeID\": 110, \"Name\": \"Patricia Taylor\", \"Age\": 31, \"Department\": \"IT\", \"JoiningDate\": \"2016-02-29\", \"Salary\": 68000, \"Email\": \"patricia.taylor@company.com\", \"ExperienceYears\": 6}\n",
    "]\n",
    "\n",
    "# Convert to pandas DataFrame\n",
    "df = pd.DataFrame(data)\n",
    "\n",
    "# Show the dataset\n",
    "print(df)\n"
   ]
  },
  {
   "cell_type": "code",
   "execution_count": 2,
   "id": "58eb7eeb-acee-4e6e-b43e-9b87f6f4f088",
   "metadata": {},
   "outputs": [
    {
     "name": "stdout",
     "output_type": "stream",
     "text": [
      "EmployeeID         0\n",
      "Name               0\n",
      "Age                2\n",
      "Department         1\n",
      "JoiningDate        1\n",
      "Salary             0\n",
      "Email              0\n",
      "ExperienceYears    1\n",
      "dtype: int64\n"
     ]
    }
   ],
   "source": [
    "print(df.isnull().sum())"
   ]
  },
  {
   "cell_type": "code",
   "execution_count": 4,
   "id": "c4111486-c59c-427a-8d9b-99fe6874b382",
   "metadata": {},
   "outputs": [
    {
     "name": "stdout",
     "output_type": "stream",
     "text": [
      "Index(['EmployeeID', 'Name', 'Age', 'Department', 'JoiningDate', 'Salary',\n",
      "       'Email', 'ExperienceYears'],\n",
      "      dtype='object')\n"
     ]
    }
   ],
   "source": [
    "print(df.columns)"
   ]
  },
  {
   "cell_type": "code",
   "execution_count": null,
   "id": "a1939fc6-4336-48bf-801d-87f6c2e27935",
   "metadata": {},
   "outputs": [],
   "source": []
  }
 ],
 "metadata": {
  "kernelspec": {
   "display_name": "Python 3 (ipykernel)",
   "language": "python",
   "name": "python3"
  },
  "language_info": {
   "codemirror_mode": {
    "name": "ipython",
    "version": 3
   },
   "file_extension": ".py",
   "mimetype": "text/x-python",
   "name": "python",
   "nbconvert_exporter": "python",
   "pygments_lexer": "ipython3",
   "version": "3.13.1"
  }
 },
 "nbformat": 4,
 "nbformat_minor": 5
}
