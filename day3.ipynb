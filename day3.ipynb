{
 "cells": [
  {
   "cell_type": "code",
   "execution_count": 30,
   "id": "87dbd863-7e79-480e-a1c3-8dbb42630a6e",
   "metadata": {},
   "outputs": [
    {
     "name": "stdout",
     "output_type": "stream",
     "text": [
      "Original data---\n",
      "\t {'Hours_Studied': [2, 4, 6, 8, 3, 7, 5, 9], 'Attendance': [50, 60, 65, 70, 55, 80, 60, 85], 'Passed': [0, 0, 1, 1, 0, 1, 0, 1]}\n",
      "DF data---\n",
      "\t\n",
      "   Hours_Studied  Attendance  Passed\n",
      "0              2          50       0\n",
      "1              4          60       0\n",
      "2              6          65       1\n",
      "3              8          70       1\n",
      "4              3          55       0\n",
      "5              7          80       1\n",
      "6              5          60       0\n",
      "7              9          85       1\n"
     ]
    }
   ],
   "source": [
    "import pandas as pd\n",
    "data = {\n",
    "    \"Hours_Studied\": [2, 4, 6, 8, 3, 7, 5, 9],\n",
    "    \"Attendance\": [50, 60, 65, 70, 55, 80, 60, 85],\n",
    "    \"Passed\": [0, 0, 1, 1, 0, 1, 0, 1]\n",
    "}\n",
    "df=pd.DataFrame(data)\n",
    "print('Original data---\\n\\t',data)\n",
    "print('DF data---\\n\\t')\n",
    "print(df)"
   ]
  },
  {
   "cell_type": "code",
   "execution_count": 5,
   "id": "32e1570b-c0e1-4746-ad4f-5630b53a939f",
   "metadata": {},
   "outputs": [
    {
     "name": "stdout",
     "output_type": "stream",
     "text": [
      "0\n",
      "Hours_Studied    0\n",
      "Attendance       0\n",
      "Passed           0\n",
      "dtype: int64\n"
     ]
    }
   ],
   "source": [
    "print(df.isnull().sum().sum())\n",
    "print(df.isnull().sum())"
   ]
  },
  {
   "cell_type": "code",
   "execution_count": 6,
   "id": "a7e669cc-8173-4600-a034-212789623610",
   "metadata": {},
   "outputs": [
    {
     "name": "stdout",
     "output_type": "stream",
     "text": [
      "Hours_Studied    0\n",
      "Attendance       0\n",
      "Passed           0\n",
      "dtype: int64\n"
     ]
    }
   ],
   "source": [
    "#print(df.isnull().sum()*100)"
   ]
  },
  {
   "cell_type": "markdown",
   "id": "3cfd8a7a-aea1-4936-8c9e-08d9f6418e05",
   "metadata": {},
   "source": []
  },
  {
   "cell_type": "code",
   "execution_count": 18,
   "id": "d90d0097-e2ee-4013-8c39-1ebdee553e04",
   "metadata": {},
   "outputs": [
    {
     "name": "stdout",
     "output_type": "stream",
     "text": [
      "   Hours_Studied  Attendance  Passed\n",
      "0      -1.527525   -1.382503    -1.0\n",
      "1      -0.654654   -0.497701    -1.0\n",
      "2       0.218218   -0.055300     1.0\n",
      "3       1.091089    0.387101     1.0\n",
      "4      -1.091089   -0.940102    -1.0\n",
      "5       0.654654    1.271903     1.0\n",
      "6      -0.218218   -0.497701    -1.0\n",
      "7       1.527525    1.714304     1.0\n"
     ]
    }
   ],
   "source": [
    "from sklearn.preprocessing import StandardScaler, MinMaxScaler\n",
    "Scaler = StandardScaler()\n",
    "X_Scaler = Scaler.fit_transform(df[[\"Hours_Studied\", \"Attendance\"]])   # must pass feature data\n",
    "\n",
    "scalar = MinMaxScaler()\n",
    "X_scaled = scalar.fit_transform(df[[\"Hours_Studied\", \"Attendance\"]])\n",
    "from sklearn.model_selection import train_test_split\n",
    "X_train, X_test, y_train, y_test = train_test_split(\n",
    "    df[[\"Hours_Studied\", \"Attendance\"]], df[\"Passed\"], test_size=0.25, random_state=42\n",
    ")\n",
    "std_scaler = StandardScaler()\n",
    "std_scaled = std_scaler.fit_transform(df[[\"Hours_Studied\", \"Attendance\", \"Passed\"]])\n",
    "\n",
    "print(pd.DataFrame(std_scaled, columns=[\"Hours_Studied\", \"Attendance\", \"Passed\"]))"
   ]
  },
  {
   "cell_type": "code",
   "execution_count": 19,
   "id": "28dff793-7cf6-4db0-9aa3-4c330f12ed70",
   "metadata": {},
   "outputs": [
    {
     "name": "stdout",
     "output_type": "stream",
     "text": [
      "   Hours_Studied  Attendance  Passed\n",
      "0       0.000000    0.000000     0.0\n",
      "1       0.285714    0.285714     0.0\n",
      "2       0.571429    0.428571     1.0\n",
      "3       0.857143    0.571429     1.0\n",
      "4       0.142857    0.142857     0.0\n",
      "5       0.714286    0.857143     1.0\n",
      "6       0.428571    0.285714     0.0\n",
      "7       1.000000    1.000000     1.0\n"
     ]
    }
   ],
   "source": [
    "# \"\"\" Feature Scaling and splitting data \"\"\"\n",
    "from sklearn.preprocessing import MinMaxScaler\n",
    "from sklearn.model_selection import train_test_split\n",
    "scalar = MinMaxScaler()# Use MinMaxScaler to keep values positive (0–1 range)\n",
    "X_scaled = scalar.fit_transform(df[[\"Hours_Studied\", \"Attendance\", \"Passed\"]])\n",
    "X_train, X_test = train_test_split(X_scaled, test_size=0.25, random_state=42)# Split the data\n",
    "print(pd.DataFrame(X_scaled, columns=[\"Hours_Studied\", \"Attendance\", \"Passed\"]))# Display scaled data (no negatives)\n"
   ]
  },
  {
   "cell_type": "code",
   "execution_count": 24,
   "id": "ff5b33f4-2514-4502-b90d-948bb5610122",
   "metadata": {},
   "outputs": [],
   "source": [
    "#01 Linear Regression"
   ]
  },
  {
   "cell_type": "code",
   "execution_count": 29,
   "id": "65e3dd4b-56ad-4ba6-9317-5bd749fe994d",
   "metadata": {},
   "outputs": [
    {
     "name": "stdin",
     "output_type": "stream",
     "text": [
      "Enter how many hours you studing :  4.55\n"
     ]
    },
    {
     "name": "stdout",
     "output_type": "stream",
     "text": [
      "Based on your hours 4.55 you may score around [83.375]\n"
     ]
    }
   ],
   "source": [
    "from sklearn.linear_model import LinearRegression\n",
    "X=[[1],[2],[3],[4],[5]]\n",
    "y=[40,50,65,75,90]\n",
    "model=LinearRegression()\n",
    "model.fit(X,y)\n",
    "hours=float(input(\"Enter how many hours you studing : \"))\n",
    "predicted_marks=model.predict([[hours]])\n",
    "print(f\"Based on your hours {hours} you may score around {predicted_marks}\")\n"
   ]
  },
  {
   "cell_type": "code",
   "execution_count": null,
   "id": "beafc6fb-4d89-4bc1-9fc8-da01772865de",
   "metadata": {},
   "outputs": [],
   "source": [
    "#02 Logistic Regression"
   ]
  },
  {
   "cell_type": "code",
   "execution_count": 34,
   "id": "bacf8661-48ff-4cc9-b69a-17e4d1e5622d",
   "metadata": {},
   "outputs": [
    {
     "name": "stdin",
     "output_type": "stream",
     "text": [
      "Enter how many hours you studing :  5.9\n"
     ]
    },
    {
     "name": "stdout",
     "output_type": "stream",
     "text": [
      "You are likely to Pass \n"
     ]
    }
   ],
   "source": [
    "from sklearn.linear_model import LogisticRegression\n",
    "X=[[1],[2],[3],[4],[5]]\n",
    "y=[0,0,1,1,1]\n",
    "model=LogisticRegression()\n",
    "model.fit(X,y)\n",
    "hours=float(input(\"Enter how many hours you studing : \"))\n",
    "result=model.predict([[hours]])[0]\n",
    "if result==1:\n",
    "    print(\"You are likely to Pass \")\n",
    "else:\n",
    "    print (\"You are likely to fail\")\n"
   ]
  },
  {
   "cell_type": "code",
   "execution_count": 35,
   "id": "290a954b-6aa0-4a37-a69d-6442a7ec1387",
   "metadata": {},
   "outputs": [],
   "source": [
    "#03 KNN"
   ]
  },
  {
   "cell_type": "code",
   "execution_count": 42,
   "id": "e9998a0d-87aa-4b2c-9c84-8cafb251aa60",
   "metadata": {},
   "outputs": [
    {
     "name": "stdin",
     "output_type": "stream",
     "text": [
      "Enter weight in grams :  320\n",
      "Enter weight in cm :  6\n"
     ]
    },
    {
     "name": "stdout",
     "output_type": "stream",
     "text": [
      "This likely Orange\n"
     ]
    }
   ],
   "source": [
    "from sklearn.neighbors import KNeighborsClassifier\n",
    "X=[\n",
    "    [180,7],\n",
    "    [200,7.5],\n",
    "    [250,8],\n",
    "    [300,8.5],\n",
    "    [300,9],\n",
    "    [360,9.5]\n",
    "]\n",
    "y=[0,0,0,1,1,1]\n",
    "model=KNeighborsClassifier(n_neighbors=3)\n",
    "model.fit(X,y)\n",
    "weight=float(input(\"Enter weight in grams : \"))\n",
    "size=float(input(\"Enter weight in cm : \"))\n",
    "prediction=model.predict([[weight, size]])[0]\n",
    "if prediction==0:\n",
    "    print(\"This likely Apple\")\n",
    "else:\n",
    "    print(\"This likely Orange\")"
   ]
  },
  {
   "cell_type": "code",
   "execution_count": null,
   "id": "9a8f3571-02fb-4eed-b47c-42cbe9ed7e79",
   "metadata": {},
   "outputs": [],
   "source": [
    "#04 Decision Tree"
   ]
  },
  {
   "cell_type": "code",
   "execution_count": 44,
   "id": "93abd66b-99bf-45b7-8058-f255ab4e9723",
   "metadata": {},
   "outputs": [
    {
     "name": "stdin",
     "output_type": "stream",
     "text": [
      "Enter size in sm :  10\n",
      "Enter shade :  18\n"
     ]
    },
    {
     "name": "stdout",
     "output_type": "stream",
     "text": [
      "This likely Apple\n"
     ]
    }
   ],
   "source": [
    "from sklearn.tree import DecisionTreeClassifier\n",
    "X=[\n",
    "    [18,7],\n",
    "    [20,5],\n",
    "    [25,8],\n",
    "    [3,8.5],\n",
    "    [3,11],\n",
    "    [19,8]\n",
    "]\n",
    "y=[1,1,1,0,0,1]\n",
    "model=DecisionTreeClassifier()\n",
    "model.fit(X,y)\n",
    "size=float(input(\"Enter size in sm : \"))\n",
    "shade=float(input(\"Enter shade : \"))\n",
    "prediction=model.predict([[size, shade]])[0]\n",
    "if prediction==0:\n",
    "    print(\"This likely Apple\")\n",
    "else:\n",
    "    print(\"This likely Orange\")"
   ]
  },
  {
   "cell_type": "code",
   "execution_count": null,
   "id": "2e6c2a66-d0dc-4bd6-9d55-78916672f4c2",
   "metadata": {},
   "outputs": [],
   "source": []
  }
 ],
 "metadata": {
  "kernelspec": {
   "display_name": "Python 3 (ipykernel)",
   "language": "python",
   "name": "python3"
  },
  "language_info": {
   "codemirror_mode": {
    "name": "ipython",
    "version": 3
   },
   "file_extension": ".py",
   "mimetype": "text/x-python",
   "name": "python",
   "nbconvert_exporter": "python",
   "pygments_lexer": "ipython3",
   "version": "3.13.1"
  }
 },
 "nbformat": 4,
 "nbformat_minor": 5
}
