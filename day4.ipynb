{
 "cells": [
  {
   "cell_type": "code",
   "execution_count": null,
   "id": "87dbd863-7e79-480e-a1c3-8dbb42630a6e",
   "metadata": {},
   "outputs": [],
   "source": [
    "#metrics evalution::\n",
    "    #Classification\tAccuracy, Precision, Recall, F1, Confusion Matrix\tEvaluate discrete predictions\n",
    "-------------------------------------------------------------------------------------------------------------\n",
    "    #Regression\tMAE, MSE, RMSE, R²\tEvaluate continuous predictions\n"
   ]
  },
  {
   "cell_type": "code",
   "execution_count": 3,
   "id": "e38f1126-3666-4c0b-867e-186c353fffa9",
   "metadata": {},
   "outputs": [
    {
     "name": "stdout",
     "output_type": "stream",
     "text": [
      "Accuracy: 0.7142857142857143\n",
      "Precision: 0.75\n",
      "Recall: 0.75\n",
      "F1-score: 0.75\n"
     ]
    }
   ],
   "source": [
    "#classification metrics:\n",
    "\n",
    "\n",
    "    # accuracy=% of total correct predictions\n",
    "    # precision=% Of all predicted positives, how many were correct\n",
    "    # recall=% Of all actual positives, how many did we find\n",
    "    # f1-score=Harmonic mean of Precision & Recal\n",
    "\n",
    "from sklearn.metrics import accuracy_score,precision_score,recall_score,f1_score\n",
    "y_true=[1,0,1,1,0,1,0]\n",
    "y_pred=[1,0,1,0,0,1,1]\n",
    "#evaluation\n",
    "print(\"Accuracy:\",accuracy_score(y_true,y_pred))\n",
    "print(\"Precision:\",precision_score(y_true,y_pred))\n",
    "print(\"Recall:\",recall_score(y_true,y_pred))\n",
    "print(\"F1-score:\",f1_score(y_true,y_pred))\n"
   ]
  },
  {
   "cell_type": "code",
   "execution_count": 4,
   "id": "359bd075-fc99-4e36-9973-0fa5e917363f",
   "metadata": {},
   "outputs": [
    {
     "name": "stdout",
     "output_type": "stream",
     "text": [
      "Confusion Matrix:\n",
      "\t\t\n",
      "[[4 1]\n",
      " [2 5]]\n"
     ]
    },
    {
     "data": {
      "image/png": "[encoded data removed]",
      "text/plain": [
       "<Figure size 500x400 with 2 Axes>"
      ]
     },
     "metadata": {},
     "output_type": "display_data"
    }
   ],
   "source": [
    "#confusion metrics\n",
    "    # A summary table of predictions — shows exactly how many predictions fall into TP, FP, FN, TN.\n",
    "    # Why we use it\n",
    "    #     Helps visualize model errors.\n",
    "    #     Foundation for calculating all other metrics.\n",
    "from sklearn.metrics import confusion_matrix\n",
    "import seaborn as sns\n",
    "import matplotlib.pyplot as plt\n",
    "y_true=[1,0,1,1,0,1,0,0,0,1,1,1]\n",
    "y_pred=[0,0,0,1,0,1,0,0,1,1,1,1]\n",
    "cm=confusion_matrix(y_true,y_pred)\n",
    "print(\"Confusion Matrix:\\n\\t\\t\")\n",
    "print(cm)\n",
    "plt.figure(figsize=(5,4))\n",
    "sns.heatmap(cm, annot=True, fmt='d', cmap='Blues', \n",
    "            xticklabels=['Predicted 0', 'Predicted 1'],\n",
    "            yticklabels=['Actual 0', 'Actual 1'])\n",
    "plt.xlabel('Predicted Labels')\n",
    "plt.ylabel('True Labels')\n",
    "plt.title('Confusion Matrix Heatmap')\n",
    "plt.show()"
   ]
  },
  {
   "cell_type": "code",
   "execution_count": 5,
   "id": "8c5922ad-8fe8-46a2-8ba9-96388d3bd06c",
   "metadata": {},
   "outputs": [],
   "source": [
    "#[[TP FP]\n",
    "#[FN TN]]\n"
   ]
  },
  {
   "cell_type": "code",
   "execution_count": null,
   "id": "eaa030ad-0178-4ef5-b313-83e2c871a2c2",
   "metadata": {},
   "outputs": [],
   "source": [
    "# MAE — Mean Absolute Error\n",
    "# The average magnitude of errors between predicted and actual values — without considering direction (+/-).\n",
    "\n",
    "# 💡 Real-Life Example\n",
    "\n",
    "# Use case: Predicting house prices\n",
    "# If the actual price is ₹50,00,000 and the model predicts ₹52,00,000,\n",
    "# the absolute error = ₹2,00,000.\n",
    "# If the average of all errors = ₹1,80,000 → MAE = ₹1.8 lakh.\n",
    "\n",
    "\n",
    "# MSE — Mean Squared Error\n",
    "# Like MAE, but squares the errors — so large errors become very large.\n",
    "# This makes the model more sensitive to outliers.\n",
    "\n",
    "# 💡 Real-Life Example\n",
    "\n",
    "# Use case: Predicting stock prices\n",
    "# If a model is mostly accurate but sometimes makes very large mistakes,\n",
    "# MSE will be high — helping you notice instability.\n",
    "\n",
    "# So MSE is good when you want to penalize large deviations more strongly.\n",
    "\n",
    "\n",
    "# RMSE — Root Mean Squared Error\n",
    "# RMSE gives the average error in the same unit as the target variable.\n",
    "# Easier to interpret than MSE.\n",
    "\n",
    "# 💡 Real-Life Example\n",
    "\n",
    "# Use case: Weather forecasting\n",
    "# If RMSE = 2.5°C → the model’s temperature predictions are off by about 2.5°C on average.\n",
    "\n",
    "\n",
    "    \n",
    "# R² — R-squared (Coefficient of Determination)\n",
    "\n",
    "# 💬 Meaning\n",
    "# =1 → perfect prediction\n",
    "\n",
    "# =0 → no better than predicting the mean\n",
    "\n",
    "# <0 → model worse than just guessing average\n",
    "\n",
    "# 💡 Real-Life Example\n",
    "\n",
    "# Use case: Predicting students’ marks\n",
    "# If R² = 0.92 → your model explains 92% of the variation in students’ marks\n",
    "# (based on factors like study hours, attendance, etc.).\n",
    "# That’s an excellent fit."
   ]
  },
  {
   "cell_type": "code",
   "execution_count": 7,
   "id": "e1b8782b-3632-44e1-8b78-c84e6b952480",
   "metadata": {},
   "outputs": [
    {
     "name": "stdout",
     "output_type": "stream",
     "text": [
      "MAE : on AVg off by :  7.5\n",
      "MSE : on AVg off by :  62.5\n",
      "RMSE : on AVg off by :  7.905694150420948\n",
      "R²: 0.71\n"
     ]
    }
   ],
   "source": [
    "from sklearn.metrics import mean_absolute_error, mean_squared_error,r2_score\n",
    "import numpy as np\n",
    "real_score=[90,60,80,100]\n",
    "pred_score=[85,70,70,95]\n",
    "MAE=mean_absolute_error(real_score,pred_score)\n",
    "MSE=mean_squared_error(real_score,pred_score)\n",
    "RMSE=np.sqrt(MSE)\n",
    "r2 = r2_score(real_score,pred_score)\n",
    "\n",
    "print(\"MAE : on AVg off by : \",MAE)\n",
    "print(\"MSE : on AVg off by : \",MSE)\n",
    "print(\"RMSE : on AVg off by : \",RMSE)\n",
    "print(f\"R²: {r2:.2f}\")"
   ]
  },
  {
   "cell_type": "code",
   "execution_count": null,
   "id": "56e57b5a-2c87-4ffd-9139-b3b2de4fb340",
   "metadata": {},
   "outputs": [],
   "source": []
  }
 ],
 "metadata": {
  "kernelspec": {
   "display_name": "Python 3 (ipykernel)",
   "language": "python",
   "name": "python3"
  },
  "language_info": {
   "codemirror_mode": {
    "name": "ipython",
    "version": 3
   },
   "file_extension": ".py",
   "mimetype": "text/x-python",
   "name": "python",
   "nbconvert_exporter": "python",
   "pygments_lexer": "ipython3",
   "version": "3.13.1"
  }
 },
 "nbformat": 4,
 "nbformat_minor": 5
}
