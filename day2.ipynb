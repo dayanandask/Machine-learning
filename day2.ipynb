{
 "cells": [
  {
   "cell_type": "code",
   "execution_count": 25,
   "id": "6a27d33c-6d1a-4c25-8c89-2b7729c85ba4",
   "metadata": {},
   "outputs": [
    {
     "name": "stdout",
     "output_type": "stream",
     "text": [
      "   EmployeeID         Name   Age  Department JoiningDate  Salary  \\\n",
      "0         101   Ravi Kumar  28.0       Sales  2018-05-21   45000   \n",
      "1         102  Neha Sharma  35.0          HR  2015-03-15   62000   \n",
      "2         103   Amit Patel   NaN          IT  2019-07-30   75000   \n",
      "3         104  Priya Singh  29.0   Marketing        None   52000   \n",
      "4         105  Karan Mehta  42.0     Finance  2011-11-20   83000   \n",
      "5         106   Deepa Nair  33.0          IT  2017-01-12   71000   \n",
      "6         107  Vikas Reddy  26.0  Operations  2020-09-01   47000   \n",
      "7         108    Sneha Das  38.0     Finance  2012-06-17   86000   \n",
      "8         109   Anil Gupta   NaN        None  2018-08-23   50000   \n",
      "9         110   Pooja Iyer  31.0          IT  2016-02-29   69000   \n",
      "\n",
      "                     Email  ExperienceYears  \n",
      "0   ravi.kumar@company.com              3.0  \n",
      "1  neha.sharma@company.com              8.0  \n",
      "2   amit.patel@company.com              2.0  \n",
      "3  priya.singh@company.com              4.0  \n",
      "4      karan.mehta@company             14.0  \n",
      "5   deepa.nair@company.com              NaN  \n",
      "6  vikas.reddy@company.com              1.0  \n",
      "7    sneha.das@company.com             12.0  \n",
      "8                     None              4.0  \n",
      "9   pooja.iyer@company.com              6.0  \n"
     ]
    }
   ],
   "source": [
    "import pandas as pd\n",
    "data = [\n",
    "    {\"EmployeeID\": 101, \"Name\": \"Ravi Kumar\", \"Age\": 28, \"Department\": \"Sales\", \"JoiningDate\": \"2018-05-21\",\n",
    "     \"Salary\": 45000, \"Email\": \"ravi.kumar@company.com\", \"ExperienceYears\": 3},\n",
    "\n",
    "    {\"EmployeeID\": 102, \"Name\": \"Neha Sharma\", \"Age\": 35, \"Department\": \"HR\", \"JoiningDate\": \"2015-03-15\",\n",
    "     \"Salary\": 62000, \"Email\": \"neha.sharma@company.com\", \"ExperienceYears\": 8},\n",
    "\n",
    "    {\"EmployeeID\": 103, \"Name\": \"Amit Patel\", \"Age\": None, \"Department\": \"IT\", \"JoiningDate\": \"2019-07-30\",\n",
    "     \"Salary\": 75000, \"Email\": \"amit.patel@company.com\", \"ExperienceYears\": 2},\n",
    "\n",
    "    {\"EmployeeID\": 104, \"Name\": \"Priya Singh\", \"Age\": 29, \"Department\": \"Marketing\", \"JoiningDate\": None,\n",
    "     \"Salary\": 52000, \"Email\": \"priya.singh@company.com\", \"ExperienceYears\": 4},\n",
    "\n",
    "    {\"EmployeeID\": 105, \"Name\": \"Karan Mehta\", \"Age\": 42, \"Department\": \"Finance\", \"JoiningDate\": \"2011-11-20\",\n",
    "     \"Salary\": 83000, \"Email\": \"karan.mehta@company\", \"ExperienceYears\": 14},\n",
    "\n",
    "    {\"EmployeeID\": 106, \"Name\": \"Deepa Nair\", \"Age\": 33, \"Department\": \"IT\", \"JoiningDate\": \"2017-01-12\",\n",
    "     \"Salary\": 71000, \"Email\": \"deepa.nair@company.com\", \"ExperienceYears\": None},\n",
    "\n",
    "    {\"EmployeeID\": 107, \"Name\": \"Vikas Reddy\", \"Age\": 26, \"Department\": \"Operations\", \"JoiningDate\": \"2020-09-01\",\n",
    "     \"Salary\": 47000, \"Email\": \"vikas.reddy@company.com\", \"ExperienceYears\": 1},\n",
    "\n",
    "    {\"EmployeeID\": 108, \"Name\": \"Sneha Das\", \"Age\": 38, \"Department\": \"Finance\", \"JoiningDate\": \"2012-06-17\",\n",
    "     \"Salary\": 86000, \"Email\": \"sneha.das@company.com\", \"ExperienceYears\": 12},\n",
    "\n",
    "    {\"EmployeeID\": 109, \"Name\": \"Anil Gupta\", \"Age\": None, \"Department\": None, \"JoiningDate\": \"2018-08-23\",\n",
    "     \"Salary\": 50000, \"Email\": \"anil.gupta@gmail.com\", \"ExperienceYears\": 4},\n",
    "\n",
    "    {\"EmployeeID\": 110, \"Name\": \"Pooja Iyer\", \"Age\": 31, \"Department\": \"IT\", \"JoiningDate\": \"2016-02-29\",\n",
    "     \"Salary\": 69000, \"Email\": \"pooja.iyer@company.com\", \"ExperienceYears\": 6}\n",
    "]\n",
    "df=pd.DataFrame(data)\n",
    "print(df)"
   ]
  },
  {
   "cell_type": "code",
   "execution_count": 9,
   "id": "159ffb37-20fa-4443-8a72-29be5110bad6",
   "metadata": {},
   "outputs": [
    {
     "data": {
      "text/plain": [
       "'2.2.3'"
      ]
     },
     "execution_count": 9,
     "metadata": {},
     "output_type": "execute_result"
    }
   ],
   "source": [
    "import pandas as pd\n",
    "pd.__version__"
   ]
  },
  {
   "cell_type": "code",
   "execution_count": 12,
   "id": "b78379b0-5dff-470b-b6f3-05b013c098c7",
   "metadata": {},
   "outputs": [
    {
     "data": {
      "text/plain": [
       "'1.5.2'"
      ]
     },
     "execution_count": 12,
     "metadata": {},
     "output_type": "execute_result"
    }
   ],
   "source": [
    "import sklearn as sk\n",
    "sk.__version__"
   ]
  },
  {
   "cell_type": "code",
   "execution_count": 18,
   "id": "edcdacb3-4841-420b-a70f-43dca73b2fa1",
   "metadata": {},
   "outputs": [
    {
     "name": "stdout",
     "output_type": "stream",
     "text": [
      "5\n",
      "EmployeeID         0\n",
      "Name               0\n",
      "Age                2\n",
      "Department         1\n",
      "JoiningDate        1\n",
      "Salary             0\n",
      "Email              0\n",
      "ExperienceYears    1\n",
      "dtype: int64\n"
     ]
    }
   ],
   "source": [
    "print(df.isnull().sum().sum())\n",
    "print(df.isnull().sum())"
   ]
  },
  {
   "cell_type": "code",
   "execution_count": 15,
   "id": "d1795049-0d46-4c5b-bd2f-1ecc3e2bd52d",
   "metadata": {},
   "outputs": [
    {
     "name": "stdout",
     "output_type": "stream",
     "text": [
      "EmployeeID           0\n",
      "Name                 0\n",
      "Age                200\n",
      "Department         100\n",
      "JoiningDate        100\n",
      "Salary               0\n",
      "Email                0\n",
      "ExperienceYears    100\n",
      "dtype: int64\n"
     ]
    }
   ],
   "source": [
    "print(df.isnull().sum()*100)"
   ]
  },
  {
   "cell_type": "code",
   "execution_count": 19,
   "id": "62e5b3da-3bfe-4761-8d2a-b14959dca9a7",
   "metadata": {},
   "outputs": [
    {
     "name": "stdout",
     "output_type": "stream",
     "text": [
      "   EmployeeID         Name   Age  Department JoiningDate  Salary  \\\n",
      "0         101   Ravi Kumar  28.0       Sales  2018-05-21   45000   \n",
      "1         102  Neha Sharma  35.0          HR  2015-03-15   62000   \n",
      "4         105  Karan Mehta  42.0     Finance  2011-11-20   83000   \n",
      "6         107  Vikas Reddy  26.0  Operations  2020-09-01   47000   \n",
      "7         108    Sneha Das  38.0     Finance  2012-06-17   86000   \n",
      "9         110   Pooja Iyer  31.0          IT  2016-02-29   69000   \n",
      "\n",
      "                     Email  ExperienceYears  \n",
      "0   ravi.kumar@company.com              3.0  \n",
      "1  neha.sharma@company.com              8.0  \n",
      "4      karan.mehta@company             14.0  \n",
      "6  vikas.reddy@company.com              1.0  \n",
      "7    sneha.das@company.com             12.0  \n",
      "9   pooja.iyer@company.com              6.0  \n"
     ]
    }
   ],
   "source": [
    "df_drop=df.dropna()\n",
    "print(df_drop)"
   ]
  },
  {
   "cell_type": "code",
   "execution_count": 20,
   "id": "c49497bb-de26-47d9-98b7-9c18a8d22cbf",
   "metadata": {},
   "outputs": [],
   "source": [
    "# fillna()--> \n",
    "#     replace all NaN with 0 or \"Unknown\":df_filled = df.fillna(\"Unknown\")  # For strings\n",
    "#     Forward fill (ffill): use the previous row’s value:df.fillna(method=\"ffill\", inplace=True)\n",
    "#     Backward fill (bfill): use the next row’s value:df.fillna(method=\"bfill\", inplace=True)\n",
    "    # once for all numeric-->df.fillna(df.mean(), inplace=True)\n",
    "    # once for all strings-->df.fillna({\"Name\": \"Unknown\"}, tinplace=True)\n",
    "\n",
    "# column-wise-->df['Age'].fillna(df['Age'].mean(),inplace=True)\n",
    "\n",
    "#NOTE:in ffill and bfill : axis=0 => row-wise\n",
    "                          #axis=1 => column-wise"
   ]
  },
  {
   "cell_type": "code",
   "execution_count": 38,
   "id": "07b453f0-f790-409d-be02-ab3e2c2045d9",
   "metadata": {},
   "outputs": [
    {
     "name": "stdout",
     "output_type": "stream",
     "text": [
      "   EmployeeID         Name   Age  Department JoiningDate  Salary  \\\n",
      "0         101   Ravi Kumar  28.0       Sales  2018-05-21   45000   \n",
      "1         102  Neha Sharma  35.0          HR  2015-03-15   62000   \n",
      "2         103   Amit Patel   NaN          IT  2019-07-30   75000   \n",
      "3         104  Priya Singh  29.0   Marketing        None   52000   \n",
      "4         105  Karan Mehta  42.0     Finance  2011-11-20   83000   \n",
      "5         106   Deepa Nair  33.0          IT  2017-01-12   71000   \n",
      "6         107  Vikas Reddy  26.0  Operations  2020-09-01   47000   \n",
      "7         108    Sneha Das  38.0     Finance  2012-06-17   86000   \n",
      "8         109   Anil Gupta   NaN        None  2018-08-23   50000   \n",
      "9         110   Pooja Iyer  31.0          IT  2016-02-29   69000   \n",
      "\n",
      "                     Email  ExperienceYears  \n",
      "0   ravi.kumar@company.com              3.0  \n",
      "1  neha.sharma@company.com              8.0  \n",
      "2   amit.patel@company.com              2.0  \n",
      "3  priya.singh@company.com              4.0  \n",
      "4      karan.mehta@company             14.0  \n",
      "5   deepa.nair@company.com              NaN  \n",
      "6  vikas.reddy@company.com              1.0  \n",
      "7    sneha.das@company.com             12.0  \n",
      "8                     None              4.0  \n",
      "9   pooja.iyer@company.com              6.0  \n",
      "6\n",
      "EmployeeID         0\n",
      "Name               0\n",
      "Age                2\n",
      "Department         1\n",
      "JoiningDate        1\n",
      "Salary             0\n",
      "Email              1\n",
      "ExperienceYears    1\n",
      "dtype: int64\n"
     ]
    }
   ],
   "source": [
    "data2 = [\n",
    "    {\"EmployeeID\": 101, \"Name\": \"Ravi Kumar\", \"Age\": 28, \"Department\": \"Sales\", \"JoiningDate\": \"2018-05-21\",\n",
    "     \"Salary\": 45000, \"Email\": \"ravi.kumar@company.com\", \"ExperienceYears\": 3},\n",
    "\n",
    "    {\"EmployeeID\": 102, \"Name\": \"Neha Sharma\", \"Age\": 35, \"Department\": \"HR\", \"JoiningDate\": \"2015-03-15\",\n",
    "     \"Salary\": 62000, \"Email\": \"neha.sharma@company.com\", \"ExperienceYears\": 8},\n",
    "\n",
    "    {\"EmployeeID\": 103, \"Name\": \"Amit Patel\", \"Age\": None, \"Department\": \"IT\", \"JoiningDate\": \"2019-07-30\",\n",
    "     \"Salary\": 75000, \"Email\": \"amit.patel@company.com\", \"ExperienceYears\": 2},\n",
    "\n",
    "    {\"EmployeeID\": 104, \"Name\": \"Priya Singh\", \"Age\": 29, \"Department\": \"Marketing\", \"JoiningDate\": None,\n",
    "     \"Salary\": 52000, \"Email\": \"priya.singh@company.com\", \"ExperienceYears\": 4},\n",
    "\n",
    "    {\"EmployeeID\": 105, \"Name\": \"Karan Mehta\", \"Age\": 42, \"Department\": \"Finance\", \"JoiningDate\": \"2011-11-20\",\n",
    "     \"Salary\": 83000, \"Email\": \"karan.mehta@company\", \"ExperienceYears\": 14},\n",
    "\n",
    "    {\"EmployeeID\": 106, \"Name\": \"Deepa Nair\", \"Age\": 33, \"Department\": \"IT\", \"JoiningDate\": \"2017-01-12\",\n",
    "     \"Salary\": 71000, \"Email\": \"deepa.nair@company.com\", \"ExperienceYears\": None},\n",
    "\n",
    "    {\"EmployeeID\": 107, \"Name\": \"Vikas Reddy\", \"Age\": 26, \"Department\": \"Operations\", \"JoiningDate\": \"2020-09-01\",\n",
    "     \"Salary\": 47000, \"Email\": \"vikas.reddy@company.com\", \"ExperienceYears\": 1},\n",
    "\n",
    "    {\"EmployeeID\": 108, \"Name\": \"Sneha Das\", \"Age\": 38, \"Department\": \"Finance\", \"JoiningDate\": \"2012-06-17\",\n",
    "     \"Salary\": 86000, \"Email\": \"sneha.das@company.com\", \"ExperienceYears\": 12},\n",
    "\n",
    "    {\"EmployeeID\": 109, \"Name\": \"Anil Gupta\", \"Age\": None, \"Department\": None, \"JoiningDate\": \"2018-08-23\",\n",
    "     \"Salary\": 50000, \"Email\": None, \"ExperienceYears\": 4},\n",
    "\n",
    "    {\"EmployeeID\": 110, \"Name\": \"Pooja Iyer\", \"Age\": 31, \"Department\": \"IT\", \"JoiningDate\": \"2016-02-29\",\n",
    "     \"Salary\": 69000, \"Email\": \"pooja.iyer@company.com\", \"ExperienceYears\": 6}\n",
    "]\n",
    "new_df=pd.DataFrame(data2)\n",
    "print(new_df)\n",
    "print(new_df.isnull().sum().sum())\n",
    "print(new_df.isnull().sum())"
   ]
  },
  {
   "cell_type": "code",
   "execution_count": 35,
   "id": "a7ea2256-b495-4f1a-a147-6d3c820971c6",
   "metadata": {},
   "outputs": [
    {
     "name": "stdout",
     "output_type": "stream",
     "text": [
      "   EmployeeID         Name   Age  Department JoiningDate  Salary  \\\n",
      "0         101   Ravi Kumar  28.0       Sales  2018-05-21   45000   \n",
      "1         102  Neha Sharma  35.0          HR  2015-03-15   62000   \n",
      "2         103   Amit Patel   NaN          IT  2019-07-30   75000   \n",
      "3         104  Priya Singh  29.0   Marketing        None   52000   \n",
      "4         105  Karan Mehta  42.0     Finance  2011-11-20   83000   \n",
      "5         106   Deepa Nair  33.0          IT  2017-01-12   71000   \n",
      "6         107  Vikas Reddy  26.0  Operations  2020-09-01   47000   \n",
      "7         108    Sneha Das  38.0     Finance  2012-06-17   86000   \n",
      "8         109   Anil Gupta   NaN        None  2018-08-23   50000   \n",
      "9         110   Pooja Iyer  31.0          IT  2016-02-29   69000   \n",
      "\n",
      "                     Email  ExperienceYears  \n",
      "0   ravi.kumar@company.com              3.0  \n",
      "1  neha.sharma@company.com              8.0  \n",
      "2   amit.patel@company.com              2.0  \n",
      "3  priya.singh@company.com              4.0  \n",
      "4      karan.mehta@company             14.0  \n",
      "5   deepa.nair@company.com              NaN  \n",
      "6  vikas.reddy@company.com              1.0  \n",
      "7    sneha.das@company.com             12.0  \n",
      "8                     None              4.0  \n",
      "9   pooja.iyer@company.com              6.0  \n"
     ]
    }
   ],
   "source": [
    "# using loop :\n",
    "for col in new_df.columns:\n",
    "    if new_df[col].dtype == 'object':\n",
    "        new_df[col].fillna(new_df[col].mode()[0])  # categorical → mode\n",
    "    else:\n",
    "        new_df[col].fillna(new_df[col].mean())     # numeric → mean\n",
    "print(new_df)\n"
   ]
  },
  {
   "cell_type": "code",
   "execution_count": 46,
   "id": "5ead8d4b-17b2-41d4-bb25-18798628dfc4",
   "metadata": {},
   "outputs": [
    {
     "name": "stdout",
     "output_type": "stream",
     "text": [
      "   EmployeeID         Name    Age  Department JoiningDate  Salary  \\\n",
      "0         101   Ravi Kumar  28.00       Sales  2018-05-21   45000   \n",
      "1         102  Neha Sharma  35.00          HR  2015-03-15   62000   \n",
      "2         103   Amit Patel  32.75          IT  2019-07-30   75000   \n",
      "3         104  Priya Singh  29.00   Marketing  2011-11-20   52000   \n",
      "4         105  Karan Mehta  42.00     Finance  2011-11-20   83000   \n",
      "5         106   Deepa Nair  33.00          IT  2017-01-12   71000   \n",
      "6         107  Vikas Reddy  26.00  Operations  2020-09-01   47000   \n",
      "7         108    Sneha Das  38.00     Finance  2012-06-17   86000   \n",
      "8         109   Anil Gupta  32.75        None  2018-08-23   50000   \n",
      "9         110   Pooja Iyer  31.00          IT  2016-02-29   69000   \n",
      "\n",
      "                     Email  ExperienceYears  \n",
      "0   ravi.kumar@company.com              3.0  \n",
      "1  neha.sharma@company.com              8.0  \n",
      "2   amit.patel@company.com              2.0  \n",
      "3  priya.singh@company.com              4.0  \n",
      "4      karan.mehta@company             14.0  \n",
      "5   deepa.nair@company.com              6.0  \n",
      "6  vikas.reddy@company.com              1.0  \n",
      "7    sneha.das@company.com             12.0  \n",
      "8                     None              4.0  \n",
      "9   pooja.iyer@company.com              6.0  \n"
     ]
    }
   ],
   "source": [
    "#new_df['Age'].fillna(new_df['Age'].mean(),inplace=True)\n",
    "#new_df['JoiningDate'].fillna(new_df['JoiningDate'].mean(),inplace=True)\n",
    "#new_df['ExperienceYear'].fillna(new_df['ExperienceYear'].mean(),inplace=True)\n",
    "new_df['Age'] = new_df['Age'].fillna(new_df['Age'].mean())\n",
    "new_df['ExperienceYears'] = new_df['ExperienceYears'].fillna(new_df['ExperienceYears'].mean())\n",
    "new_df['JoiningDate'] = new_df['JoiningDate'].fillna(new_df['JoiningDate'].mode()[0])\n",
    "print(new_df)"
   ]
  },
  {
   "cell_type": "code",
   "execution_count": null,
   "id": "57f68f49-b615-43cf-b596-fd662e8babee",
   "metadata": {},
   "outputs": [],
   "source": []
  }
 ],
 "metadata": {
  "kernelspec": {
   "display_name": "Python 3 (ipykernel)",
   "language": "python",
   "name": "python3"
  },
  "language_info": {
   "codemirror_mode": {
    "name": "ipython",
    "version": 3
   },
   "file_extension": ".py",
   "mimetype": "text/x-python",
   "name": "python",
   "nbconvert_exporter": "python",
   "pygments_lexer": "ipython3",
   "version": "3.13.1"
  }
 },
 "nbformat": 4,
 "nbformat_minor": 5
}
